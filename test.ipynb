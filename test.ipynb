{
 "cells": [
  {
   "cell_type": "code",
   "execution_count": null,
   "metadata": {},
   "outputs": [],
   "source": [
    "import random\n",
    "import json\n"
   ]
  },
  {
   "cell_type": "code",
   "execution_count": 153,
   "metadata": {},
   "outputs": [
    {
     "data": {
      "text/plain": [
       "3"
      ]
     },
     "execution_count": 153,
     "metadata": {},
     "output_type": "execute_result"
    }
   ],
   "source": [
    "\n",
    "def rolling_dice():\n",
    "    position = random.randint(1, 6)\n",
    "    return position\n",
    "\n",
    "rolling_dice()\n"
   ]
  },
  {
   "cell_type": "code",
   "execution_count": 164,
   "metadata": {},
   "outputs": [
    {
     "data": {
      "text/plain": [
       "{'Bases de données': [{'question': \"Qu'est-ce qu'une base de données relationnelle ?\",\n",
       "   'choix': ['Une collection de données sans structure',\n",
       "    'Un ensemble de tables reliées entre elles',\n",
       "    'Une base de données avec uniquement des graphiques',\n",
       "    'Une base de données en temps réel'],\n",
       "   'reponse': 'Un ensemble de tables reliées entre elles'},\n",
       "  {'question': 'Quel langage est utilisé pour interagir avec les bases de données ?',\n",
       "   'choix': ['HTML', 'SQL', 'Python', 'C++'],\n",
       "   'reponse': 'SQL'},\n",
       "  {'question': 'Quelle commande SQL permet de récupérer des données ?',\n",
       "   'choix': ['INSERT', 'DELETE', 'SELECT', 'UPDATE'],\n",
       "   'reponse': 'SELECT'},\n",
       "  {'question': 'Quel est un système de gestion de bases de données populaire ?',\n",
       "   'choix': ['MySQL', 'Apache', 'React', 'Flask'],\n",
       "   'reponse': 'MySQL'},\n",
       "  {'question': \"Qu'est-ce qu'une clé primaire ?\",\n",
       "   'choix': [\"Une contrainte pour assurer l'unicité des lignes\",\n",
       "    'Un champ pouvant contenir des valeurs nulles',\n",
       "    'Un index pour accélérer les requêtes',\n",
       "    'Une colonne utilisée pour les relations'],\n",
       "   'reponse': \"Une contrainte pour assurer l'unicité des lignes\"}],\n",
       " 'Langages de programmation': [{'question': 'Quel langage est souvent enseigné pour débuter ?',\n",
       "   'choix': ['Python', 'JavaScript', 'C', 'Rust'],\n",
       "   'reponse': 'Python'},\n",
       "  {'question': 'Quel langage est utilisé pour les applications Android ?',\n",
       "   'choix': ['C#', 'Kotlin', 'Ruby', 'Swift'],\n",
       "   'reponse': 'Kotlin'},\n",
       "  {'question': 'Quel langage est connu pour son utilisation scientifique ?',\n",
       "   'choix': ['Python', 'Java', 'PHP', 'Go'],\n",
       "   'reponse': 'Python'},\n",
       "  {'question': 'Quel langage est utilisé principalement pour le développement web front-end ?',\n",
       "   'choix': ['Python', 'JavaScript', 'Ruby', 'SQL'],\n",
       "   'reponse': 'JavaScript'}],\n",
       " 'Ligne de commandes': [{'question': \"Que fait la commande 'ls' en Unix ?\",\n",
       "   'choix': ['Affiche la liste des fichiers',\n",
       "    \"Affiche les détails de l'utilisateur\",\n",
       "    'Liste les processus en cours',\n",
       "    'Ferme le terminal'],\n",
       "   'reponse': 'Affiche la liste des fichiers'},\n",
       "  {'question': 'Comment changer de répertoire en ligne de commande ?',\n",
       "   'choix': ['ls', 'cd', 'pwd', 'mkdir'],\n",
       "   'reponse': 'cd'}],\n",
       " 'Actualités IA': [{'question': \"Qu'est-ce que GPT-4 ?\",\n",
       "   'choix': ['Un modèle de langage développé par OpenAI',\n",
       "    'Un robot de conversation',\n",
       "    'Un nouveau langage de programmation',\n",
       "    'Un outil de création de contenu visuel'],\n",
       "   'reponse': 'Un modèle de langage développé par OpenAI'},\n",
       "  {'question': \"Qu'est-ce qu'un modèle de machine learning supervisé ?\",\n",
       "   'choix': ['Un modèle qui apprend avec des données étiquetées',\n",
       "    \"Un modèle qui s'auto-améliore\",\n",
       "    \"Un modèle sans données d'entrée\",\n",
       "    \"Un modèle pour la reconnaissance d'images\"],\n",
       "   'reponse': 'Un modèle qui apprend avec des données étiquetées'}],\n",
       " 'DevOps': [{'question': \"Qu'est-ce que Git ?\",\n",
       "   'choix': ['Un système de gestion de version décentralisé',\n",
       "    'Un serveur de base de données',\n",
       "    \"Un outil d'automatisation de tests\",\n",
       "    'Un langage de programmation'],\n",
       "   'reponse': 'Un système de gestion de version décentralisé'},\n",
       "  {'question': \"Qu'est-ce que CI/CD ?\",\n",
       "   'choix': ['Continuous Integration / Continuous Delivery',\n",
       "    'Computer Integrated Development',\n",
       "    'Command Integration / Command Delivery',\n",
       "    'Cloud Infrastructure / Continuous Delivery'],\n",
       "   'reponse': 'Continuous Integration / Continuous Delivery'}],\n",
       " 'Agile': [{'question': \"Qu'est-ce que la méthode Agile ?\",\n",
       "   'choix': ['Une méthode de gestion de projet linéaire',\n",
       "    'Une méthode qui encourage les changements rapides',\n",
       "    'Une méthode basée sur des documents détaillés',\n",
       "    'Une méthode de développement uniquement pour les grandes entreprises'],\n",
       "   'reponse': 'Une méthode qui encourage les changements rapides'},\n",
       "  {'question': \"Qu'est-ce que le Scrum dans Agile ?\",\n",
       "   'choix': ['Un type de réunion quotidienne',\n",
       "    'Un framework pour gérer des projets Agile',\n",
       "    'Une technique de gestion des tâches',\n",
       "    'Un type de programmation'],\n",
       "   'reponse': 'Un framework pour gérer des projets Agile'},\n",
       "  {'question': \"Quel est l'objectif principal de la méthode Agile ?\",\n",
       "   'choix': ['Réduire le nombre de réunions',\n",
       "    'Accélérer la livraison de valeur aux utilisateurs',\n",
       "    'Imposer une hiérarchie stricte',\n",
       "    'Garantir une documentation complète'],\n",
       "   'reponse': 'Accélérer la livraison de valeur aux utilisateurs'}]}"
      ]
     },
     "execution_count": 164,
     "metadata": {},
     "output_type": "execute_result"
    }
   ],
   "source": [
    "\n",
    "def load_questions():\n",
    "        with open('data/questions.json', 'r') as file:\n",
    "            return json.load(file)\n",
    "load_questions()"
   ]
  },
  {
   "cell_type": "code",
   "execution_count": null,
   "metadata": {},
   "outputs": [
    {
     "data": {
      "text/plain": [
       "['Bases de données',\n",
       " 'Langages de programmation',\n",
       " 'Ligne de commandes',\n",
       " 'Actualités IA',\n",
       " 'DevOps',\n",
       " 'Autres catégories',\n",
       " 'DevOps',\n",
       " 'Langages de programmation',\n",
       " 'Ligne de commandes',\n",
       " 'Actualités IA',\n",
       " 'Bases de données',\n",
       " 'Autres catégories',\n",
       " 'Autres catégories',\n",
       " 'DevOps',\n",
       " 'Ligne de commandes',\n",
       " 'Actualités IA',\n",
       " 'Bases de données',\n",
       " 'Langages de programmation',\n",
       " 'Bases de données',\n",
       " 'Autres catégories',\n",
       " 'Ligne de commandes',\n",
       " 'Actualités IA',\n",
       " 'DevOps',\n",
       " 'Langages de programmation',\n",
       " 'Actualités IA',\n",
       " 'Langages de programmation',\n",
       " 'Bases de données',\n",
       " 'DevOps',\n",
       " 'Ligne de commandes',\n",
       " 'Autres catégories',\n",
       " 'Ligne de commandes',\n",
       " 'DevOps',\n",
       " 'Bases de données',\n",
       " 'Langages de programmation',\n",
       " 'Autres catégories',\n",
       " 'Actualités IA']"
      ]
     },
     "execution_count": 165,
     "metadata": {},
     "output_type": "execute_result"
    }
   ],
   "source": [
    "\n",
    "def create_board():\n",
    "        categories_per_quarter = [\n",
    "    [\"Bases de données\", \"Langages de programmation\", \"Ligne de commandes\", \"Actualités IA\", \"DevOps\", \"Autres catégories\"],\n",
    "    [\"DevOps\", \"Langages de programmation\", \"Ligne de commandes\", \"Actualités IA\", \"Bases de données\", \"Autres catégories\"],\n",
    "    [\"Autres catégories\", \"DevOps\", \"Ligne de commandes\", \"Actualités IA\", \"Bases de données\", \"Langages de programmation\"],\n",
    "    [\"Bases de données\", \"Autres catégories\", \"Ligne de commandes\", \"Actualités IA\", \"DevOps\", \"Langages de programmation\"],\n",
    "    [\"Actualités IA\", \"Langages de programmation\", \"Bases de données\", \"DevOps\", \"Ligne de commandes\", \"Autres catégories\"],\n",
    "    [\"Ligne de commandes\", \"DevOps\", \"Bases de données\", \"Langages de programmation\", \"Autres catégories\", \"Actualités IA\"] \n",
    "]\n",
    "        plateau = []\n",
    "        for i in range(6):\n",
    "            plateau.extend(categories_per_quarter[i])\n",
    "        return plateau\n",
    "\n",
    "create_board()"
   ]
  },
  {
   "cell_type": "code",
   "execution_count": 247,
   "metadata": {},
   "outputs": [
    {
     "data": {
      "text/plain": [
       "{'question': \"Qu'est-ce qu'une base de données relationnelle ?\",\n",
       " 'choix': ['Une collection de données sans structure',\n",
       "  'Un ensemble de tables reliées entre elles',\n",
       "  'Une base de données avec uniquement des graphiques',\n",
       "  'Une base de données en temps réel'],\n",
       " 'reponse': 'Un ensemble de tables reliées entre elles'}"
      ]
     },
     "execution_count": 247,
     "metadata": {},
     "output_type": "execute_result"
    }
   ],
   "source": [
    "\n",
    "def get_question_by_category(category):\n",
    "    questions = load_questions()\n",
    "    if category in questions:\n",
    "        category_questions = questions[category]\n",
    "        if category_questions:\n",
    "            return random.choice(category_questions)\n",
    "        else: None\n",
    "    return None\n",
    "\n",
    "current_category = random.choice([\"Bases de données\", \"Langages de programmation\", \"Ligne de commandes\", \"Actualités IA\", \"DevOps\", \"Agile\"])\n",
    "get_question_by_category(current_category)"
   ]
  }
 ],
 "metadata": {
  "kernelspec": {
   "display_name": ".venv",
   "language": "python",
   "name": "python3"
  },
  "language_info": {
   "codemirror_mode": {
    "name": "ipython",
    "version": 3
   },
   "file_extension": ".py",
   "mimetype": "text/x-python",
   "name": "python",
   "nbconvert_exporter": "python",
   "pygments_lexer": "ipython3",
   "version": "3.12.3"
  }
 },
 "nbformat": 4,
 "nbformat_minor": 2
}
